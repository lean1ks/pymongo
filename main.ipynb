{
 "cells": [
  {
   "cell_type": "markdown",
   "metadata": {},
   "source": [
    "__Импорт библиотек и подключение к БД__"
   ]
  },
  {
   "cell_type": "code",
   "execution_count": 10,
   "metadata": {},
   "outputs": [],
   "source": [
    "from pymongo import MongoClient\n",
    "\n",
    "client = MongoClient('mongodb://localhost:27017/')\n",
    "db = client['db']\n",
    "cl = db['app_post']"
   ]
  },
  {
   "cell_type": "markdown",
   "metadata": {},
   "source": [
    "__CREATE__"
   ]
  },
  {
   "cell_type": "code",
   "execution_count": 11,
   "metadata": {},
   "outputs": [
    {
     "data": {
      "text/plain": [
       "{'_id': ObjectId('66565bb91b047074d2adb277'),\n",
       " 'title_news': 'Название статьи',\n",
       " 'category': 'Категория',\n",
       " 'data': 'Время публикации',\n",
       " 'url_img': 'Ссылка на картинку'}"
      ]
     },
     "execution_count": 11,
     "metadata": {},
     "output_type": "execute_result"
    }
   ],
   "source": [
    "cl.insert_one({\n",
    "    'title_news': 'Название статьи',\n",
    "    'category': 'Категория',\n",
    "    'data': 'Время публикации',\n",
    "    'url_img': 'Ссылка на картинку'\n",
    "})\n",
    "\n",
    "cl.find_one({'title_news': 'Название статьи'})"
   ]
  },
  {
   "cell_type": "markdown",
   "metadata": {},
   "source": [
    "__READ__"
   ]
  },
  {
   "cell_type": "code",
   "execution_count": 12,
   "metadata": {},
   "outputs": [
    {
     "name": "stdout",
     "output_type": "stream",
     "text": [
      "{'_id': ObjectId('6656456b84ac0d0c1af3981f'), 'id': 1, 'title_news': 'Новости высоких технологий, науки и техники', 'category': 'Техника', 'data': 'сегодня в 16:30', 'url_img': 'https://www.techcult.ru/content/2024/13841/v-permi-pridumali-kak-udeshevit-vypusk-bpla_sm.jpg'}\n",
      "{'_id': ObjectId('6656456b84ac0d0c1af39820'), 'id': 2, 'title_news': 'Пермские специалисты придумали, как удешевить производство БПЛА', 'category': 'Гаджеты', 'data': 'сегодня в 15:52', 'url_img': 'https://www.techcult.ru/content/2024/13827/ispytaniya-dvigatelej-zamenit-matematicheskoe-modelirovanie_sm.jpg'}\n",
      "{'_id': ObjectId('6656456b84ac0d0c1af39821'), 'id': 3, 'title_news': 'Первый в мире микрокомпьютер Q1 отправляется на аукцион', 'category': 'Гаджеты', 'data': 'сегодня в 13:55', 'url_img': 'https://www.techcult.ru/content/2024/13824/v-21-raider_sm.jpg'}\n",
      "{'_id': ObjectId('6656456b84ac0d0c1af39822'), 'id': 4, 'title_news': 'Sony показала, какими будут игры и консоли через 10 лет', 'category': 'Интернет', 'data': 'сегодня в 11:49', 'url_img': 'https://www.techcult.ru/content/2024/13826/v-sheremetevo-rabotaet-elektricheskij-zapravshik-WFIY_sm.jpg'}\n",
      "{'_id': ObjectId('6656456b84ac0d0c1af39823'), 'id': 5, 'title_news': 'Собака, ставшая лицом криптовалюты Dogecoin, ушла в лучший мир', 'category': 'Техника', 'data': 'сегодня в 09:10', 'url_img': 'https://www.techcult.ru/content/2024/13821/fplus-t1100-rus_sm.jpg'}\n",
      "{'_id': ObjectId('6656456b84ac0d0c1af39824'), 'id': 6, 'title_news': 'Появились подробности по российско-белорусскому самолету «Освей»', 'category': 'Статьи', 'data': 'вчера в 18:15', 'url_img': 'https://www.techcult.ru/content/2024/13804/winamp_sm.jpg'}\n",
      "{'_id': ObjectId('6656456b84ac0d0c1af39825'), 'id': 7, 'title_news': 'ROIDMI EVE MAX — робот-пылесос с системой сбора пыли: цена по акции 36650 рублей', 'category': 'Софт', 'data': 'вчера в 16:30', 'url_img': 'https://www.techcult.ru/content/2024/13830/sqr.jpg'}\n",
      "{'_id': ObjectId('6656456b84ac0d0c1af39826'), 'id': 8, 'title_news': 'Испытания российских авиадвигателей заменит математическое моделирование', 'category': 'Автомобили', 'data': 'вчера в 15:52', 'url_img': 'https://www.techcult.ru/content/2024/13831/sqr.jpg'}\n",
      "{'_id': ObjectId('6656456b84ac0d0c1af39827'), 'id': 9, 'title_news': 'Электромобили сбивают пешеходов в два раза чаще обычных машин', 'category': 'Гаджеты', 'data': 'вчера в 13:52', 'url_img': 'https://www.techcult.ru/content/2024/13818/sqr.jpg'}\n",
      "{'_id': ObjectId('6656456b84ac0d0c1af39828'), 'id': 10, 'title_news': 'Самое древнее растение на Земле превратили в ультрасовременный гаджет', 'category': 'Технологии', 'data': 'вчера в 11:51', 'url_img': 'https://www.techcult.ru/content/2024/13825/sqr.jpg'}\n",
      "{'_id': ObjectId('6656456b84ac0d0c1af39829'), 'id': 11, 'title_news': 'Искусственные алмазы теперь можно создавать всего за 15 минут', 'category': 'Софт', 'data': 'вчера в 07:56', 'url_img': 'https://www.techcult.ru/content/2024/13812/sqr.jpg'}\n",
      "{'_id': ObjectId('6656456b84ac0d0c1af3982a'), 'id': 12, 'title_news': 'Новый ИИ Recall от Microsoft будет отслеживать абсолютно все действия пользователя в Windows', 'category': 'Техника', 'data': 'позавчера в 15:53', 'url_img': 'https://www.techcult.ru/content/2024/13811/sqr.jpg'}\n",
      "{'_id': ObjectId('6656456b84ac0d0c1af3982b'), 'id': 13, 'title_news': 'Невероятно простой трюк может снизить выбросы кораблей почти на 20%', 'category': 'Техника', 'data': 'позавчера в 11:45', 'url_img': 'https://www.techcult.ru/content/2024/13835/sqr.jpg'}\n",
      "{'_id': ObjectId('6656456b84ac0d0c1af3982c'), 'id': 14, 'title_news': 'ВВС США показали первые официальные фото бомбардировщика В-21 Raider', 'category': 'Гаджеты', 'data': '2 дня назад', 'url_img': 'https://www.techcult.ru/content/2024/13829/sqr.jpg'}\n",
      "{'_id': ObjectId('6656456b84ac0d0c1af3982d'), 'id': 15, 'title_news': 'Складной микроофис Edge Desk позволит работать откуда угодно', 'category': 'Наука', 'data': '2 дня назад', 'url_img': 'https://www.techcult.ru/content/2024/13809/sqr.jpg'}\n",
      "{'_id': ObjectId('6656456b84ac0d0c1af3982e'), 'id': 16, 'title_news': 'Швейцарские ученые изобрели новый вид шоколада', 'category': 'Автомобили', 'data': '2 дня назад', 'url_img': 'https://www.techcult.ru/content/2024/13810/sqr.jpg'}\n",
      "{'_id': ObjectId('6656456b84ac0d0c1af3982f'), 'id': 17, 'title_news': 'В Шереметьево приступил к работе «электрический» топливозаправщик', 'category': 'Космос', 'data': '3 дня назад', 'url_img': 'https://www.techcult.ru/content/2024/13838/sqr.jpg'}\n",
      "{'_id': ObjectId('6656456b84ac0d0c1af39830'), 'id': 18, 'title_news': 'Информационную платформу под «Млечный путь» должны запустить в 2024 году', 'category': 'Интернет', 'data': '3 дня назад', 'url_img': 'https://www.techcult.ru/content/2024/13828/sqr.jpg'}\n",
      "{'_id': ObjectId('6656456b84ac0d0c1af39831'), 'id': 19, 'title_news': 'Энтузиасты воскресили Archie – первую поисковую систему в мире', 'category': 'Космос', 'data': '3 дня назад', 'url_img': 'https://www.techcult.ru/content/2024/13817/sqr.jpg'}\n",
      "{'_id': ObjectId('6656456b84ac0d0c1af39832'), 'id': 20, 'title_news': 'Первый в мире коммерческий космолет готовится к отправке на МКС', 'category': 'Технологии', 'data': '3 дня назад', 'url_img': 'https://www.techcult.ru/content/2024/13820/sqr.jpg'}\n",
      "{'_id': ObjectId('6656456b84ac0d0c1af39833'), 'id': 21, 'title_news': 'В самолетах «Аэрофлота» и поездах РЖД появится спутниковый интернет', 'category': 'Планшеты', 'data': '23 мая 2024', 'url_img': 'https://www.techcult.ru/content/2024/13840/poyavilis-podrobnosti-po-samoletu-osvej_sm.jpg'}\n",
      "{'_id': ObjectId('6656456b84ac0d0c1af39834'), 'id': 22, 'title_news': 'Российский бренд Fplus анонсировал универсальный планшет Т1100-Rus', 'category': 'Софт', 'data': '23 мая 2024', 'url_img': 'https://www.techcult.ru/content/2024/13832/microsoft-recall-ai_sm.jpg'}\n",
      "{'_id': ObjectId('6656456b84ac0d0c1af39835'), 'id': 23, 'title_news': 'Фейковый экран обновления Windows — настоящий подарок для офисных прокрастинаторов', 'category': 'Техника', 'data': '23 мая 2024', 'url_img': 'https://www.techcult.ru/content/2024/13822/v-samoletah-aeroflota-i-poezdah-rzhd-poyavitsya-internet_sm.jpg'}\n",
      "{'_id': ObjectId('6656456b84ac0d0c1af39836'), 'id': 24, 'title_news': 'Китайский автогигант Great Wall вышел на моторынок с двухлитровым мегатурером SOUO S2000 GL', 'category': 'Наука', 'data': '23 мая 2024', 'url_img': 'https://www.techcult.ru/content/2024/13819/salon-samoleta_sm.jpg'}\n",
      "{'_id': ObjectId('6656456b84ac0d0c1af39837'), 'id': 25, 'title_news': 'В «Сириусе» наладят выпуск уникальных лекарств', 'category': 'Техника', 'data': '23 мая 2024', 'url_img': 'https://www.techcult.ru/content/2024/13816/korabl_sm.jpg'}\n",
      "{'_id': ObjectId('6656456b84ac0d0c1af39838'), 'id': 26, 'title_news': 'Сильная турбулентность убила пассажира Singapore Airlines, еще десятки получили травмы', 'category': 'Автомобили', 'data': '22 мая 2024', 'url_img': 'https://www.techcult.ru/content/2024/13823/shokolad_sm.jpg'}\n",
      "{'_id': ObjectId('6656456b84ac0d0c1af39839'), 'id': 27, 'title_news': 'В Челябинске работают над системой пересечения перекрестков без остановки', 'category': 'Софт', 'data': '22 мая 2024', 'url_img': 'https://www.techcult.ru/content/2024/13815/v-rf-sozdali-sistemu-bezostanovochnogo-proezda-perekrestkov_sm.jpg'}\n",
      "{'_id': ObjectId('66565bb91b047074d2adb277'), 'title_news': 'Название статьи', 'category': 'Категория', 'data': 'Время публикации', 'url_img': 'Ссылка на картинку'}\n"
     ]
    }
   ],
   "source": [
    "for item in cl.find():\n",
    "    print(item)"
   ]
  },
  {
   "cell_type": "markdown",
   "metadata": {},
   "source": [
    "__UPDATE__"
   ]
  },
  {
   "cell_type": "code",
   "execution_count": 13,
   "metadata": {},
   "outputs": [
    {
     "data": {
      "text/plain": [
       "{'_id': ObjectId('66565bb91b047074d2adb277'),\n",
       " 'title_news': 'Название статьи',\n",
       " 'category': 'Новая категория',\n",
       " 'data': 'Время публикации',\n",
       " 'url_img': 'Ссылка на картинку'}"
      ]
     },
     "execution_count": 13,
     "metadata": {},
     "output_type": "execute_result"
    }
   ],
   "source": [
    "cl.update_one({'title_news': 'Название статьи'}, {'$set': {'category': 'Новая категория'}})\n",
    "\n",
    "cl.find_one({'title_news': 'Название статьи'})"
   ]
  },
  {
   "cell_type": "markdown",
   "metadata": {},
   "source": [
    "__DELETE__"
   ]
  },
  {
   "cell_type": "code",
   "execution_count": 14,
   "metadata": {},
   "outputs": [
    {
     "data": {
      "text/plain": [
       "NoneType"
      ]
     },
     "execution_count": 14,
     "metadata": {},
     "output_type": "execute_result"
    }
   ],
   "source": [
    "cl.delete_one({'title_news': 'Название статьи'})\n",
    "\n",
    "type(cl.find_one({'title_news': 'Название статьи'}))"
   ]
  }
 ],
 "metadata": {
  "kernelspec": {
   "display_name": "venv",
   "language": "python",
   "name": "python3"
  },
  "language_info": {
   "codemirror_mode": {
    "name": "ipython",
    "version": 3
   },
   "file_extension": ".py",
   "mimetype": "text/x-python",
   "name": "python",
   "nbconvert_exporter": "python",
   "pygments_lexer": "ipython3",
   "version": "3.12.1"
  }
 },
 "nbformat": 4,
 "nbformat_minor": 2
}
